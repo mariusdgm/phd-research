{
 "cells": [
  {
   "cell_type": "code",
   "execution_count": 49,
   "metadata": {},
   "outputs": [
    {
     "name": "stdout",
     "output_type": "stream",
     "text": [
      "The autoreload extension is already loaded. To reload it, use:\n",
      "  %reload_ext autoreload\n"
     ]
    }
   ],
   "source": [
    "%load_ext autoreload\n",
    "%autoreload 2"
   ]
  },
  {
   "cell_type": "code",
   "execution_count": 50,
   "metadata": {},
   "outputs": [],
   "source": [
    "import os, sys\n",
    "import numpy as np\n",
    "\n",
    "from rl_envs_forge.envs.grid_world.grid_world import GridWorld\n",
    "from rl_envs_forge.envs.grid_world.mdp.mdp import GridWorldMDP\n",
    "from rl_envs_forge.envs.grid_world.grid_world import Action\n",
    "\n",
    "from src.replay_buffer import ReplayBuffer\n",
    "from src.policy_iteration import policy_evaluation_v, find_optimal_policy_q\n",
    "from src.visualize import draw_simple_gridworld"
   ]
  },
  {
   "cell_type": "code",
   "execution_count": 51,
   "metadata": {},
   "outputs": [],
   "source": [
    "import numpy as np\n",
    "\n",
    "# Assuming ReplayBuffer and GridWorld classes are already defined\n",
    "# Initialize the environment\n",
    "env = GridWorld(\n",
    "    rows=10,\n",
    "    cols=10,\n",
    "    walls=None,\n",
    "    random_move_frequency=1.0,\n",
    "    terminal_states={(4, 4): 1.0},\n",
    "    rewards = {\n",
    "        \"valid_move\": 0,\n",
    "        \"wall_collision\": 0,\n",
    "        \"out_of_bounds\": 0, \n",
    "        \"default\": 0.0,\n",
    "    }\n",
    ")\n",
    "\n",
    "state_dim = 2  # For GridWorld, state can be represented by (row, col) position\n",
    "action_dim = 1  # Assuming discrete actions\n",
    "max_size = 1000  # Maximum size of the buffer\n",
    "n_step = 1  # For simplicity, not using n-step returns here\n",
    "replay_buffer = ReplayBuffer(max_size, state_dim, action_dim, n_step)\n",
    "\n",
    "dataset = []\n",
    "\n",
    "# Simulate episodes\n",
    "num_episodes = 50\n",
    "num_steps = 100_000\n",
    "\n",
    "\n",
    "state = env.reset()\n",
    "done = False\n",
    "for _ in range(num_steps):\n",
    "    # For GridWorld, action can be randomly selected\n",
    "    action = np.random.choice([0, 1, 2, 3])  # UP, RIGHT, DOWN, LEFT\n",
    "    next_state, reward, done, _, _ = env.step(action)\n",
    "    \n",
    "    # Store the experience in the dataset\n",
    "    sample = [state, action, reward, next_state, done]\n",
    "    dataset.append(sample)\n",
    "    \n",
    "    if done:\n",
    "        state = env.reset()\n",
    "        done = False\n",
    "        \n",
    "    state = next_state"
   ]
  },
  {
   "cell_type": "code",
   "execution_count": 60,
   "metadata": {},
   "outputs": [
    {
     "data": {
      "image/png": "[encoded data removed]",
      "text/plain": [
       "<Figure size 640x480 with 1 Axes>"
      ]
     },
     "metadata": {},
     "output_type": "display_data"
    }
   ],
   "source": [
    "env.render()"
   ]
  }
 ],
 "metadata": {
  "kernelspec": {
   "display_name": "phd_rl_algos",
   "language": "python",
   "name": "python3"
  },
  "language_info": {
   "codemirror_mode": {
    "name": "ipython",
    "version": 3
   },
   "file_extension": ".py",
   "mimetype": "text/x-python",
   "name": "python",
   "nbconvert_exporter": "python",
   "pygments_lexer": "ipython3",
   "version": "3.11.5"
  }
 },
 "nbformat": 4,
 "nbformat_minor": 2
}

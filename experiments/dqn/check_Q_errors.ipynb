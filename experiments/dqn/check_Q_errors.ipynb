{
 "cells": [
  {
   "cell_type": "code",
   "execution_count": null,
   "metadata": {},
   "outputs": [],
   "source": [
    "# gridsearch on normal replay buffer\n",
    "# switch prob A and B back\n",
    "# Add replay buffer size as experiment axis\n",
    "# Find Q* and compare with Q values from network"
   ]
  }
 ],
 "metadata": {
  "language_info": {
   "name": "python"
  }
 },
 "nbformat": 4,
 "nbformat_minor": 2
}

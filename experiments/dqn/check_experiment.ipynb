{
 "cells": [
  {
   "cell_type": "code",
   "execution_count": 34,
   "metadata": {},
   "outputs": [
    {
     "name": "stdout",
     "output_type": "stream",
     "text": [
      "The autoreload extension is already loaded. To reload it, use:\n",
      "  %reload_ext autoreload\n"
     ]
    }
   ],
   "source": [
    "%load_ext autoreload\n",
    "%autoreload 2\n",
    "\n",
    "import os\n",
    "import sys\n",
    "import time\n",
    "import random\n",
    "import pandas as pd\n",
    "import yaml\n",
    "\n",
    "from argparse import Namespace\n",
    "\n",
    "import numpy as np\n",
    "import networkx as nx\n",
    "import seaborn as sns\n",
    "sns.set_style(\"whitegrid\", {'axes.grid' : False})\n",
    "\n",
    "root_dir = os.path.dirname(\n",
    "        os.path.dirname(os.path.realpath(\".\")))\n",
    "\n",
    "sys.path.append(root_dir)\n",
    "\n",
    "\n",
    "import logging\n",
    "\n",
    "from rl_envs_forge.envs.grid_world.grid_world import GridWorld\n",
    "from common.src.distribution_src import ( \n",
    "                                         make_env, \n",
    "                                        randomize_walls_positions, \n",
    "                                        generate_train_test_split_with_valid_path,\n",
    "                                        run_distribution_correction_experiment\n",
    "                                        )\n",
    "from common.src.dqn.my_dqn import AgentDQN\n",
    "\n",
    "from common.src.experiment_utils import (\n",
    "    setup_logger,\n",
    "    convert_from_string,\n",
    "    namespace_to_dict,\n",
    ")\n",
    "\n",
    "from argparse import Namespace"
   ]
  },
  {
   "cell_type": "code",
   "execution_count": 35,
   "metadata": {},
   "outputs": [
    {
     "name": "stdout",
     "output_type": "stream",
     "text": [
      "[(2, 0), (1, 2)]\n"
     ]
    },
    {
     "data": {
      "image/png": "[encoded data removed]",
      "text/plain": [
       "<Figure size 640x480 with 1 Axes>"
      ]
     },
     "metadata": {},
     "output_type": "display_data"
    }
   ],
   "source": [
    "terminal_states = {(2, 2): 1}\n",
    "start_state = (0, 0)\n",
    "rows = 5\n",
    "cols = 5\n",
    "seed = 2\n",
    "\n",
    "# random_walls = randomize_walls_positions(rows, cols, start_state, terminal_states, 0.2, seed=seed)\n",
    "random_walls = [(2, 0), (1, 2)]\n",
    "print(random_walls)\n",
    "env = make_env(\n",
    "    rows,\n",
    "    cols,\n",
    "    start_state=start_state,\n",
    "    p_success=1,\n",
    "    terminal_states=terminal_states,\n",
    "    seed=seed,\n",
    "    walls=random_walls,\n",
    ")\n",
    "env.render()"
   ]
  },
  {
   "cell_type": "code",
   "execution_count": 36,
   "metadata": {},
   "outputs": [
    {
     "data": {
      "text/plain": [
       "{(2, 2): 1}"
      ]
     },
     "execution_count": 36,
     "metadata": {},
     "output_type": "execute_result"
    }
   ],
   "source": [
    "env.terminal_states"
   ]
  },
  {
   "cell_type": "code",
   "execution_count": 37,
   "metadata": {},
   "outputs": [],
   "source": [
    "def get_observation_space_shape(observation_space):\n",
    "    \"\"\" Extract a shape-like tuple from a tuple of discrete spaces. \"\"\"\n",
    "    return tuple(space.n for space in observation_space.spaces)"
   ]
  },
  {
   "cell_type": "code",
   "execution_count": 38,
   "metadata": {},
   "outputs": [
    {
     "data": {
      "text/plain": [
       "Tuple(Discrete(5), Discrete(5))"
      ]
     },
     "execution_count": 38,
     "metadata": {},
     "output_type": "execute_result"
    }
   ],
   "source": [
    "env.observation_space"
   ]
  },
  {
   "cell_type": "code",
   "execution_count": 39,
   "metadata": {},
   "outputs": [
    {
     "data": {
      "text/plain": [
       "(0, 0)"
      ]
     },
     "execution_count": 39,
     "metadata": {},
     "output_type": "execute_result"
    }
   ],
   "source": [
    "env.state"
   ]
  },
  {
   "cell_type": "code",
   "execution_count": 40,
   "metadata": {},
   "outputs": [
    {
     "data": {
      "text/plain": [
       "array([[3, 0, 0, 0, 0],\n",
       "       [0, 0, 1, 0, 0],\n",
       "       [1, 0, 2, 0, 0],\n",
       "       [0, 0, 0, 0, 0],\n",
       "       [0, 0, 0, 0, 0]])"
      ]
     },
     "execution_count": 40,
     "metadata": {},
     "output_type": "execute_result"
    }
   ],
   "source": [
    "def state_to_matrix(state, env):\n",
    "    import numpy as np\n",
    "\n",
    "    # Extract the environment size from walls and terminal states\n",
    "    max_rows = env.rows\n",
    "    max_cols = env.cols\n",
    "    \n",
    "    # Create the matrix\n",
    "    matrix = np.zeros((max_rows, max_cols), dtype=int)\n",
    "    \n",
    "    # Mark walls in the matrix\n",
    "    for wall in env.walls:\n",
    "        matrix[wall[0], wall[1]] = 1  # Use 1 to indicate walls\n",
    "    \n",
    "    # Mark terminal states in the matrix\n",
    "    for terminal, value in env.terminal_states.items():\n",
    "        matrix[terminal[0], terminal[1]] = 2 \n",
    "    \n",
    "    pos = state\n",
    "    matrix[pos[0], pos[1]] = 3  # Use 3 to indicate the agent's position\n",
    "    \n",
    "    return matrix\n",
    "\n",
    "state_to_matrix(env.state, env)"
   ]
  },
  {
   "cell_type": "code",
   "execution_count": 41,
   "metadata": {},
   "outputs": [
    {
     "data": {
      "text/plain": [
       "(5, 5)"
      ]
     },
     "execution_count": 41,
     "metadata": {},
     "output_type": "execute_result"
    }
   ],
   "source": [
    "state_shape = get_observation_space_shape(env.observation_space)\n",
    "state_shape"
   ]
  },
  {
   "cell_type": "code",
   "execution_count": 42,
   "metadata": {},
   "outputs": [],
   "source": [
    "# env.mdp"
   ]
  },
  {
   "cell_type": "code",
   "execution_count": 43,
   "metadata": {},
   "outputs": [],
   "source": [
    "# ts = next(iter(terminal_states))\n",
    "\n",
    "# for trial in range(100000):\n",
    "#     random_walls = randomize_walls_positions(rows, cols, start_state, terminal_states, 0.2, seed=trial)\n",
    "\n",
    "#     if (start_state in random_walls) or (ts in random_walls):\n",
    "#         raise ValueError(\"start state or terminal state in walls\")\n",
    "\n",
    "    "
   ]
  },
  {
   "cell_type": "code",
   "execution_count": 44,
   "metadata": {},
   "outputs": [],
   "source": [
    "transitions_list = [(key[0], key[1], *value[0]) for key, value in env.mdp.items()]\n",
    "\n",
    "transitions_train, transitions_val = generate_train_test_split_with_valid_path(\n",
    "        transitions_list=transitions_list,\n",
    "        start_state=start_state,\n",
    "        terminal_states=terminal_states,\n",
    ")\n",
    "        "
   ]
  },
  {
   "cell_type": "code",
   "execution_count": 45,
   "metadata": {},
   "outputs": [
    {
     "data": {
      "text/plain": [
       "{'algorithm': 'default',\n",
       " 'alpha': 0.1,\n",
       " 'batch_size': 32,\n",
       " 'cfg_id': 0,\n",
       " 'cols': 10,\n",
       " 'experiment': 'experiment_distributions',\n",
       " 'experiment_arguments': {'algorithm': 'default', 'tau': 0.001},\n",
       " 'full_title': '2024May11-174939_configs_tau=0.001; algorithm=default',\n",
       " 'gamma': 0.9,\n",
       " 'min_samples': 10,\n",
       " 'neural_fit_mode': 'max',\n",
       " 'num_steps': 40000,\n",
       " 'out_dir': '.\\\\results\\\\2024May11-174939_configs\\\\0000_tau_0.001__algorithm_default\\\\0',\n",
       " 'p_success': 1,\n",
       " 'rows': 10,\n",
       " 'run_id': 0,\n",
       " 'seed': 1366505020,\n",
       " 'start_state': (1, 1),\n",
       " 'tau': 0.001,\n",
       " 'terminal_states': {(8, 8): 1.0},\n",
       " 'title': 'tau=0.001; algorithm=default',\n",
       " 'train_max_iterations': 30}"
      ]
     },
     "execution_count": 45,
     "metadata": {},
     "output_type": "execute_result"
    }
   ],
   "source": [
    "### Load up a config\n",
    "\n",
    "file_path = r'D:\\Work\\repos\\phd-research\\experiments\\experiment_distributions\\results\\2024May11-174939_configs\\0000_tau_0.001__algorithm_default\\0\\cfg.yaml'\n",
    "\n",
    "# Open the YAML file and load its content into a dictionary\n",
    "with open(file_path, 'r') as file:\n",
    "    data = yaml.safe_load(file)\n",
    "    \n",
    "opts = Namespace(**data)\n",
    "\n",
    "logger = setup_logger(\n",
    "        opts.full_title\n",
    "    )\n",
    "\n",
    "opts.seed = random.randint(0, 2**32 - 1) if opts.seed is None else opts.seed\n",
    "opts.start_state = convert_from_string(opts.start_state)\n",
    "opts.terminal_states = namespace_to_dict(opts.terminal_states)\n",
    "opts_dict = vars(opts)\n",
    "\n",
    "opts_dict"
   ]
  },
  {
   "cell_type": "code",
   "execution_count": 46,
   "metadata": {},
   "outputs": [],
   "source": [
    "loss_records, bm_error = run_distribution_correction_experiment(\n",
    "        tau=opts.tau,\n",
    "        seed=opts.seed,\n",
    "        run_id=opts.run_id,\n",
    "        rows=opts.rows,\n",
    "        cols=opts.cols,\n",
    "        start_state=opts.start_state,\n",
    "        p_success=opts.p_success,\n",
    "        terminal_states=opts.terminal_states,\n",
    "        num_steps=opts.num_steps,\n",
    "        gamma=opts.gamma,\n",
    "        min_samples=opts.min_samples,\n",
    "        batch_size=opts.batch_size,\n",
    "        train_max_iterations=opts.train_max_iterations,\n",
    "        neural_fit_mode=opts.neural_fit_mode,\n",
    "        algorithm=opts.algorithm,\n",
    "        logger=logger,\n",
    "    )"
   ]
  },
  {
   "cell_type": "code",
   "execution_count": 49,
   "metadata": {},
   "outputs": [
    {
     "data": {
      "text/plain": [
       "[(0, 567.355140139329, 0),\n",
       " (1, 842.5612327974668, 0),\n",
       " (2, 149.43937118149984, 0),\n",
       " (3, 22.443935344091873, 0),\n",
       " (4, 57.683827568628814, 0),\n",
       " (5, 2.3301338214632494, 0),\n",
       " (6, 1.5808382067777558, 0),\n",
       " (7, 1.5297232259303453, 0),\n",
       " (8, 0.8806012932614067, 0),\n",
       " (9, 599.3289162893212, 0),\n",
       " (10, 1534.415686246084, 0),\n",
       " (11, 203.92524472188597, 0),\n",
       " (12, 38.79700609503918, 0),\n",
       " (13, 16.939074004349152, 0),\n",
       " (14, 5.050676535497256, 0),\n",
       " (15, 4.703013814704352, 0),\n",
       " (16, 1.979107774017069, 0),\n",
       " (17, 104.41633440113247, 0),\n",
       " (18, 33.896378333561856, 0),\n",
       " (19, 1.2434754837650521, 0),\n",
       " (20, 0.7689982248967635, 0),\n",
       " (21, 0.7753408328703983, 0),\n",
       " (22, 2.3648500417778697, 0),\n",
       " (23, 0.9217786804408235, 0),\n",
       " (24, 0.7266107874759316, 0),\n",
       " (25, 5092.858168762033, 0),\n",
       " (26, 852.4632508541758, 0),\n",
       " (27, 44.88793143869725, 0),\n",
       " (28, 10.857846242749659, 0),\n",
       " (29, 6.462837752794279, 0)]"
      ]
     },
     "execution_count": 49,
     "metadata": {},
     "output_type": "execute_result"
    }
   ],
   "source": [
    "loss_records"
   ]
  },
  {
   "cell_type": "code",
   "execution_count": null,
   "metadata": {},
   "outputs": [],
   "source": [
    "loss_records, bm_error = run_distribution_correction_experiment(\n",
    "        tau=opts.tau,\n",
    "        seed=opts.seed,\n",
    "        run_id=opts.run_id,\n",
    "        rows=opts.rows,\n",
    "        cols=opts.cols,\n",
    "        start_state=opts.start_state,\n",
    "        p_success=opts.p_success,\n",
    "        terminal_states=opts.terminal_states,\n",
    "        num_steps=opts.num_steps,\n",
    "        gamma=opts.gamma,\n",
    "        min_samples=opts.min_samples,\n",
    "        batch_size=opts.batch_size,\n",
    "        train_max_iterations=opts.train_max_iterations,\n",
    "        neural_fit_mode=opts.neural_fit_mode,\n",
    "        algorithm=opts.algorithm,\n",
    "        logger=logger,\n",
    "    )"
   ]
  }
 ],
 "metadata": {
  "kernelspec": {
   "display_name": "general",
   "language": "python",
   "name": "python3"
  },
  "language_info": {
   "codemirror_mode": {
    "name": "ipython",
    "version": 3
   },
   "file_extension": ".py",
   "mimetype": "text/x-python",
   "name": "python",
   "nbconvert_exporter": "python",
   "pygments_lexer": "ipython3",
   "version": "3.11.5"
  }
 },
 "nbformat": 4,
 "nbformat_minor": 2
}

{
 "cells": [
  {
   "cell_type": "code",
   "execution_count": 100,
   "metadata": {},
   "outputs": [
    {
     "name": "stdout",
     "output_type": "stream",
     "text": [
      "The autoreload extension is already loaded. To reload it, use:\n",
      "  %reload_ext autoreload\n"
     ]
    }
   ],
   "source": [
    "%load_ext autoreload\n",
    "%autoreload 2\n",
    "\n",
    "import os\n",
    "import sys\n",
    "import time\n",
    "import random\n",
    "import pandas as pd\n",
    "import yaml\n",
    "\n",
    "from argparse import Namespace\n",
    "\n",
    "import numpy as np\n",
    "import networkx as nx\n",
    "import seaborn as sns\n",
    "sns.set_style(\"whitegrid\", {'axes.grid' : False})\n",
    "\n",
    "root_dir = os.path.dirname(\n",
    "        os.path.dirname(os.path.realpath(\".\")))\n",
    "\n",
    "sys.path.append(root_dir)\n",
    "\n",
    "\n",
    "import logging\n",
    "\n",
    "from rl_envs_forge.envs.grid_world.grid_world import GridWorld\n",
    "from common.src.distribution_src import ( \n",
    "                                         make_env, \n",
    "                                        randomize_walls_positions, \n",
    "                                        generate_train_test_split_with_valid_path,\n",
    "                                        run_distribution_correction_experiment\n",
    "                                        )\n",
    "from common.src.simple_dqn_agent import AgentDQN\n",
    "\n",
    "from common.src.experiment_utils import (\n",
    "    setup_logger,\n",
    "    convert_from_string,\n",
    "    namespace_to_dict,\n",
    ")\n",
    "\n",
    "from argparse import Namespace"
   ]
  },
  {
   "cell_type": "code",
   "execution_count": 101,
   "metadata": {},
   "outputs": [
    {
     "name": "stdout",
     "output_type": "stream",
     "text": [
      "[(2, 0), (1, 2)]\n"
     ]
    },
    {
     "data": {
      "image/png": "[encoded data removed]",
      "text/plain": [
       "<Figure size 640x480 with 1 Axes>"
      ]
     },
     "metadata": {},
     "output_type": "display_data"
    }
   ],
   "source": [
    "terminal_states = {(2, 2): 1}\n",
    "start_state = (2, 1)\n",
    "rows = 5\n",
    "cols = 5\n",
    "seed = 2\n",
    "\n",
    "# random_walls = randomize_walls_positions(rows, cols, start_state, terminal_states, 0.2, seed=seed)\n",
    "random_walls = [(2, 0), (1, 2)]\n",
    "print(random_walls)\n",
    "env = make_env(\n",
    "    rows,\n",
    "    cols,\n",
    "    start_state=start_state,\n",
    "    p_success=1,\n",
    "    terminal_states=terminal_states,\n",
    "    seed=seed,\n",
    "    walls=random_walls,\n",
    ")\n",
    "env.render()"
   ]
  },
  {
   "cell_type": "code",
   "execution_count": 102,
   "metadata": {},
   "outputs": [],
   "source": [
    "def get_observation_space_shape(observation_space):\n",
    "    \"\"\" Extract a shape-like tuple from a tuple of discrete spaces. \"\"\"\n",
    "    return tuple(space.n for space in observation_space.spaces)"
   ]
  },
  {
   "cell_type": "code",
   "execution_count": 103,
   "metadata": {},
   "outputs": [
    {
     "data": {
      "text/plain": [
       "Tuple(Discrete(5), Discrete(5))"
      ]
     },
     "execution_count": 103,
     "metadata": {},
     "output_type": "execute_result"
    }
   ],
   "source": [
    "env.observation_space"
   ]
  },
  {
   "cell_type": "code",
   "execution_count": 104,
   "metadata": {},
   "outputs": [
    {
     "data": {
      "text/plain": [
       "(2, 1)"
      ]
     },
     "execution_count": 104,
     "metadata": {},
     "output_type": "execute_result"
    }
   ],
   "source": [
    "env.state"
   ]
  },
  {
   "cell_type": "code",
   "execution_count": 105,
   "metadata": {},
   "outputs": [
    {
     "data": {
      "text/plain": [
       "array([[0, 0, 0, 0, 0],\n",
       "       [0, 0, 1, 0, 0],\n",
       "       [1, 3, 2, 0, 0],\n",
       "       [0, 0, 0, 0, 0],\n",
       "       [0, 0, 0, 0, 0]])"
      ]
     },
     "execution_count": 105,
     "metadata": {},
     "output_type": "execute_result"
    }
   ],
   "source": [
    "def state_to_matrix(state, env):\n",
    "    import numpy as np\n",
    "\n",
    "    # Extract the environment size from walls and terminal states\n",
    "    max_rows = env.rows\n",
    "    max_cols = env.cols\n",
    "    \n",
    "    # Create the matrix\n",
    "    matrix = np.zeros((max_rows, max_cols), dtype=int)\n",
    "    \n",
    "    # Mark walls in the matrix\n",
    "    for wall in env.walls:\n",
    "        matrix[wall[0], wall[1]] = 1  # Use 1 to indicate walls\n",
    "    \n",
    "    # Mark terminal states in the matrix\n",
    "    for terminal, value in env.terminal_states.items():\n",
    "        matrix[terminal[0], terminal[1]] = 2 \n",
    "    \n",
    "    pos = state\n",
    "    matrix[pos[0], pos[1]] = 3  # Use 3 to indicate the agent's position\n",
    "    \n",
    "    return matrix\n",
    "\n",
    "state_to_matrix(env.state, env)"
   ]
  },
  {
   "cell_type": "code",
   "execution_count": 106,
   "metadata": {},
   "outputs": [
    {
     "data": {
      "text/plain": [
       "(5, 5)"
      ]
     },
     "execution_count": 106,
     "metadata": {},
     "output_type": "execute_result"
    }
   ],
   "source": [
    "state_shape = get_observation_space_shape(env.observation_space)\n",
    "state_shape"
   ]
  },
  {
   "cell_type": "code",
   "execution_count": 107,
   "metadata": {},
   "outputs": [],
   "source": [
    "# env.mdp"
   ]
  },
  {
   "cell_type": "code",
   "execution_count": 108,
   "metadata": {},
   "outputs": [],
   "source": [
    "# ts = next(iter(terminal_states))\n",
    "\n",
    "# for trial in range(100000):\n",
    "#     random_walls = randomize_walls_positions(rows, cols, start_state, terminal_states, 0.2, seed=trial)\n",
    "\n",
    "#     if (start_state in random_walls) or (ts in random_walls):\n",
    "#         raise ValueError(\"start state or terminal state in walls\")\n",
    "\n",
    "    "
   ]
  },
  {
   "cell_type": "code",
   "execution_count": 109,
   "metadata": {},
   "outputs": [],
   "source": [
    "transitions_list = [(key[0], key[1], *value[0]) for key, value in env.mdp.items()]\n",
    "\n",
    "transitions_train, transitions_val = generate_train_test_split_with_valid_path(\n",
    "        transitions_list=transitions_list,\n",
    "        start_state=start_state,\n",
    "        terminal_states=terminal_states,\n",
    ")\n",
    "        "
   ]
  },
  {
   "cell_type": "code",
   "execution_count": 117,
   "metadata": {},
   "outputs": [
    {
     "data": {
      "text/plain": [
       "{'agent_params': {'agent': 'AgentDQN',\n",
       "  'args_': {'batch_size': 32,\n",
       "   'epsilon': {'decay': 250000, 'end': 0.01, 'start': 1.0},\n",
       "   'gamma': 0.9,\n",
       "   'loss_fcn': 'mse_loss',\n",
       "   'replay_start_size': 50,\n",
       "   'target_model_update_freq': 40,\n",
       "   'train_step_cnt': 500,\n",
       "   'training_freq': 4,\n",
       "   'validation_enabled': True,\n",
       "   'validation_epsilon': 0.001,\n",
       "   'validation_step_cnt': 250}},\n",
       " 'algorithm': 'default',\n",
       " 'cfg_id': 0,\n",
       " 'cols': 10,\n",
       " 'experiment': 'experiment_distributions',\n",
       " 'experiment_arguments': {'num_steps': 20000},\n",
       " 'full_title': '2024May16-230833_configs_num_steps=20000',\n",
       " 'neural_fit_mode': 'max',\n",
       " 'num_steps': 20000,\n",
       " 'optim': {'args_': {'eps': 0.0003125, 'lr': 0.1}, 'name': 'Adam'},\n",
       " 'out_dir': '.\\\\results\\\\2024May16-230833_configs\\\\0000_num_steps_20000\\\\0',\n",
       " 'p_success': 1,\n",
       " 'replay_buffer': {'action_dim': 1, 'max_size': 1000, 'n_step': 0},\n",
       " 'rows': 10,\n",
       " 'run_id': 0,\n",
       " 'seed': 3685735817,\n",
       " 'start_state': (1, 1),\n",
       " 'terminal_states': {'(8, 8)': 1.0},\n",
       " 'title': 'num_steps=20000',\n",
       " 'train_max_iterations': 30}"
      ]
     },
     "execution_count": 117,
     "metadata": {},
     "output_type": "execute_result"
    }
   ],
   "source": [
    "### Load up a config\n",
    "\n",
    "file_path = r'D:\\Work\\repos\\phd-research\\experiments\\dqn\\results\\2024May16-230833_configs\\0000_num_steps_20000\\0\\cfg.yaml'\n",
    "\n",
    "# Open the YAML file and load its content into a dictionary\n",
    "with open(file_path, 'r') as file:\n",
    "    data = yaml.safe_load(file)\n",
    "    \n",
    "opts = Namespace(**data)\n",
    "\n",
    "logger = setup_logger(\n",
    "        opts.full_title\n",
    "    )\n",
    "\n",
    "opts.seed = random.randint(0, 2**32 - 1) if opts.seed is None else opts.seed\n",
    "opts.start_state = convert_from_string(opts.start_state)\n",
    "opts_dict = namespace_to_dict(opts)\n",
    "# opts_dict = vars(opts)\n",
    "\n",
    "opts_dict"
   ]
  },
  {
   "cell_type": "code",
   "execution_count": 118,
   "metadata": {},
   "outputs": [
    {
     "name": "stdout",
     "output_type": "stream",
     "text": [
      "2024-05-16 23:17:26,881 - 2024May16-230833_configs_num_steps=20000 - INFO - Starting experiment: 2024May16-230833_configs_num_steps=20000\n",
      "2024-05-16 23:17:26,881 - 2024May16-230833_configs_num_steps=20000 - INFO - Starting experiment: 2024May16-230833_configs_num_steps=20000\n",
      "2024-05-16 23:17:26,881 - 2024May16-230833_configs_num_steps=20000 - INFO - Starting experiment: 2024May16-230833_configs_num_steps=20000\n",
      "2024-05-16 23:17:26,888 - 2024May16-230833_configs_num_steps=20000 - INFO - Loaded configuration settings.\n",
      "2024-05-16 23:17:26,888 - 2024May16-230833_configs_num_steps=20000 - INFO - Loaded configuration settings.\n",
      "2024-05-16 23:17:26,888 - 2024May16-230833_configs_num_steps=20000 - INFO - Loaded configuration settings.\n",
      "2024-05-16 23:17:26,890 - 2024May16-230833_configs_num_steps=20000 - INFO - Initialized newtworks and optimizer.\n",
      "2024-05-16 23:17:26,890 - 2024May16-230833_configs_num_steps=20000 - INFO - Initialized newtworks and optimizer.\n",
      "2024-05-16 23:17:26,890 - 2024May16-230833_configs_num_steps=20000 - INFO - Initialized newtworks and optimizer.\n",
      "2024-05-16 23:17:26,892 - 2024May16-230833_configs_num_steps=20000 - INFO - Starting training session at: 0\n",
      "2024-05-16 23:17:26,892 - 2024May16-230833_configs_num_steps=20000 - INFO - Starting training session at: 0\n",
      "2024-05-16 23:17:26,892 - 2024May16-230833_configs_num_steps=20000 - INFO - Starting training session at: 0\n",
      "2024-05-16 23:17:26,892 - 2024May16-230833_configs_num_steps=20000 - INFO - Starting training epoch at t = 0\n",
      "2024-05-16 23:17:26,892 - 2024May16-230833_configs_num_steps=20000 - INFO - Starting training epoch at t = 0\n",
      "2024-05-16 23:17:26,892 - 2024May16-230833_configs_num_steps=20000 - INFO - Starting training epoch at t = 0\n",
      "2024-05-16 23:17:27,036 - 2024May16-230833_configs_num_steps=20000 - INFO - TRAINING STATS | Frames seen: 500 | Episode: 0 | Max reward: None | Avg reward: None | Avg frames (episode): None | Avg max Q: None | Epsilon: 0.998218 | Train epoch time: 0:00:00.143463\n",
      "2024-05-16 23:17:27,036 - 2024May16-230833_configs_num_steps=20000 - INFO - TRAINING STATS | Frames seen: 500 | Episode: 0 | Max reward: None | Avg reward: None | Avg frames (episode): None | Avg max Q: None | Epsilon: 0.998218 | Train epoch time: 0:00:00.143463\n",
      "2024-05-16 23:17:27,036 - 2024May16-230833_configs_num_steps=20000 - INFO - TRAINING STATS | Frames seen: 500 | Episode: 0 | Max reward: None | Avg reward: None | Avg frames (episode): None | Avg max Q: None | Epsilon: 0.998218 | Train epoch time: 0:00:00.143463\n",
      "2024-05-16 23:17:27,037 - 2024May16-230833_configs_num_steps=20000 - INFO - Starting validation epoch at t = 500\n",
      "2024-05-16 23:17:27,037 - 2024May16-230833_configs_num_steps=20000 - INFO - Starting validation epoch at t = 500\n",
      "2024-05-16 23:17:27,037 - 2024May16-230833_configs_num_steps=20000 - INFO - Starting validation epoch at t = 500\n"
     ]
    }
   ],
   "source": [
    "logger.info(f\"Starting experiment: {opts_dict['full_title']}\")\n",
    "\n",
    "rows = opts_dict[\"rows\"]\n",
    "cols = opts_dict[\"cols\"]\n",
    "start_state = opts_dict[\"start_state\"]\n",
    "p_success = opts_dict[\"p_success\"]\n",
    "terminal_states = opts_dict[\"terminal_states\"]\n",
    "run_id = opts_dict[\"run_id\"]\n",
    "\n",
    "### Setup environments ###\n",
    "train_env = make_env(rows, cols, start_state, p_success, terminal_states, run_id)\n",
    "validation_env = make_env(rows, cols, start_state, p_success, terminal_states, run_id)\n",
    "\n",
    "### Setup output and loading paths ###\n",
    "\n",
    "experiment_agent = AgentDQN(\n",
    "    train_env=train_env,\n",
    "    validation_env=validation_env,\n",
    "    experiment_output_folder=opts_dict[\"out_dir\"],\n",
    "    experiment_name=opts_dict[\"experiment\"],\n",
    "    resume_training_path=None,\n",
    "    save_checkpoints=True,\n",
    "    logger=logger,\n",
    "    config=opts_dict,\n",
    ")\n",
    "\n",
    "experiment_agent.train(1)"
   ]
  },
  {
   "cell_type": "code",
   "execution_count": null,
   "metadata": {},
   "outputs": [],
   "source": []
  },
  {
   "cell_type": "code",
   "execution_count": 112,
   "metadata": {},
   "outputs": [],
   "source": [
    "# loss_records, bm_error = run_distribution_correction_experiment(\n",
    "#         tau=opts.tau,\n",
    "#         seed=opts.seed,\n",
    "#         run_id=opts.run_id,\n",
    "#         rows=opts.rows,\n",
    "#         cols=opts.cols,\n",
    "#         start_state=opts.start_state,\n",
    "#         p_success=opts.p_success,\n",
    "#         terminal_states=opts.terminal_states,\n",
    "#         num_steps=opts.num_steps,\n",
    "#         gamma=opts.gamma,\n",
    "#         min_samples=opts.min_samples,\n",
    "#         batch_size=opts.batch_size,\n",
    "#         train_max_iterations=opts.train_max_iterations,\n",
    "#         neural_fit_mode=opts.neural_fit_mode,\n",
    "#         algorithm=opts.algorithm,\n",
    "#         logger=logger,\n",
    "#     )"
   ]
  },
  {
   "cell_type": "code",
   "execution_count": 113,
   "metadata": {},
   "outputs": [],
   "source": [
    "# loss_records"
   ]
  },
  {
   "cell_type": "code",
   "execution_count": null,
   "metadata": {},
   "outputs": [],
   "source": []
  }
 ],
 "metadata": {
  "kernelspec": {
   "display_name": "general",
   "language": "python",
   "name": "python3"
  },
  "language_info": {
   "codemirror_mode": {
    "name": "ipython",
    "version": 3
   },
   "file_extension": ".py",
   "mimetype": "text/x-python",
   "name": "python",
   "nbconvert_exporter": "python",
   "pygments_lexer": "ipython3",
   "version": "3.11.5"
  }
 },
 "nbformat": 4,
 "nbformat_minor": 2
}
